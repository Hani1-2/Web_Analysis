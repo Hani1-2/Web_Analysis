{
 "cells": [
  {
   "cell_type": "code",
   "execution_count": 8,
   "source": [
    "from autoscraper import AutoScraper\r\n",
    "\r\n",
    "url = 'https://www.amazon.com/Maybelline-Coverage-Liquid-Foundation-Makeup/dp/B074VFYCKC/'\r\n",
    "wanted_list = [\"By far the best foundation I have ever used from a local drugstore\",\r\n",
    "               \"Color: 130 BUFF BEIGEVerified Purchase By far the best foundation I have ever used from a local drugstore. I have mild rosacea which can be hard to cover my redness. I do not like to use a bunch of products on my face and this is perfect! I'm a foundation, powder and blush type of girl. I will definitely switch from Revlon's ColorStay to this. I use NC35 from Mac's water based foundation, I use 300 Golden Beige in Revlon's ColorStay foundation and the BUFF BEIGE suits me perfectly. I was nervous because I read great reviews but many say the color changes which is true so I was scared to choose the wrong shade. I googled my butt off and couldn't find someone with my shade who also made the swap so I hope I help some fair skinned people out there. Lol.\", \"324 people found this helpful\"]\r\n",
    "\r\n",
    "scraper = AutoScraper()\r\n",
    "result = scraper.build(url, wanted_list)\r\n",
    "print(result)\r\n"
   ],
   "outputs": [
    {
     "output_type": "stream",
     "name": "stdout",
     "text": [
      "['By far the best foundation I have ever used from a local drugstore', 'SuperStay', 'Pick a shade lighter (oxidizes)', 'The best drugstore foundation!', 'Ivory 112/ fair porcelain', 'Holy Oxidation Batman', 'Imma Keep It Real With You Chief, Issa NO', 'Best Foundation Ever !!!', '324 people found this helpful', '225 people found this helpful', '130 people found this helpful', '199 people found this helpful', '106 people found this helpful', '59 people found this helpful', '51 people found this helpful', '69 people found this helpful']\n"
     ]
    }
   ],
   "metadata": {}
  },
  {
   "cell_type": "code",
   "execution_count": null,
   "source": [],
   "outputs": [],
   "metadata": {}
  }
 ],
 "metadata": {
  "orig_nbformat": 4,
  "language_info": {
   "name": "python",
   "version": "3.8.10",
   "mimetype": "text/x-python",
   "codemirror_mode": {
    "name": "ipython",
    "version": 3
   },
   "pygments_lexer": "ipython3",
   "nbconvert_exporter": "python",
   "file_extension": ".py"
  },
  "kernelspec": {
   "name": "python3",
   "display_name": "Python 3.8.10 64-bit ('Residency': conda)"
  },
  "interpreter": {
   "hash": "f940a2724a61ff987b7751254c33f190137ed88b3902ee52b0d4a7ee79ee3f35"
  }
 },
 "nbformat": 4,
 "nbformat_minor": 2
}