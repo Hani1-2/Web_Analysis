{
 "cells": [
  {
   "cell_type": "markdown",
   "metadata": {},
   "source": [
    "AUTO SCRAPER:\n",
    "Auto scraper is used to fetch the reviews from the given URL. We have to provie a wishlist like what values we have to scrap from the webpage. In given code, the wishlist contain the review title or how much people find it useful. We can also retrieve the star rating to enhance our project."
   ]
  },
  {
   "cell_type": "code",
   "execution_count": 156,
   "metadata": {},
   "outputs": [
    {
     "name": "stdout",
     "output_type": "stream",
     "text": [
      "['Love it!', 'Gotta collect them all!', 'A.D.D.I.C.T.E.D.❣️', 'Day two', 'Excellent formula, but be careful in color selection.', 'Amazing Red!', 'THE BEST liquid lipstick formula, of all time!', 'Amazing!!!', 'Love the shades and the stay!', 'Color: 135 GLOBETROTTER', 'Color: 65 SEDUCTRESS', 'Color: 80 RULER', 'Color: 15 LOVER', 'Sticky, cracks, crumbles.', 'Color: 10 DREAMER', 'Color: 20 PIONEER', 'Color: 25 HEROINE', 'Color: 05 LOYALIST', 'Reviewed in the United States on April 13, 2019', 'I love this lipstick and the color!It feels moisturizing on my lips, I can add chapstick and it doesn’t get all streaky and gummy and it lasts forever.I was looking for a nude-ish color that didn’t make my lips look like ashy versions of themselves and this is it!Definitely recommend.Included a picture because nude colors tend to look a bit different on chocolate girls, so I wanted to give ya a gander at what this color looks like on this chocolate gal. :-)', 'Reviewed in the United States on December 28, 2017', \"So, let me start this out by saying I love the formula, which is why I now own three shades.  It stays all day no matter what I eat, and is transfer resistant through every test I've given it.However, I'm a bit unhappy with some of the shades.The first shade I bought was Loyalist, and while the packing is incredibly light colored, I found it to just be a warm tone of the natural color of my lips, making it almost unnoticeable when I wore it.  I then picked up Lover, which is a pretty light berry color, very true to packaging, long lasting, and vibrant.I recently picked up Poet, because I wanted a more cool toned nude.  When it arrived, I found it to be far more brown than the pictures suggested, and while the packaging is much darker than Loyalist, the colors of the two are almost identical.  In the picture, the top color is Poet, and the bottom is Loyalist, but you can barely tell.I wish the nudes were more consistent like the rest of the shades.  It's a shame, because the formula really is fantastic.\", '976 people found this helpful', '357 people found this helpful', '383 people found this helpful', '682 people found this helpful', '385 people found this helpful', '239 people found this helpful', '225 people found this helpful', '362 people found this helpful', '268 people found this helpful', '66 people found this helpful']\n"
     ]
    }
   ],
   "source": [
    "from autoscraper import AutoScraper\n",
    "\n",
    "amazon_url = \"https://www.amazon.com/Maybelline-SuperStay-Matte-Liquid-Lipstick/product-reviews/B074VD4X86/ref=cm_cr_dp_d_show_all_btm?ie=UTF8&reviewerType=all_reviews\"\n",
    "\n",
    "wish_list = ['Love it!', '362 people found this helpful']\n",
    "\n",
    "scraper_1 = AutoScraper()\n",
    "result = scraper_1.build(amazon_url, wish_list)\n",
    "print(result)\n"
   ]
  },
  {
   "cell_type": "markdown",
   "metadata": {},
   "source": [
    "By get_result_similar method we can scrapone page reviews and grouped our two wishlist item in a dictionary"
   ]
  },
  {
   "cell_type": "code",
   "execution_count": 157,
   "metadata": {},
   "outputs": [],
   "source": [
    "review_title_key=scraper_1.get_result_similar(amazon_url, grouped= True)\n"
   ]
  },
  {
   "cell_type": "code",
   "execution_count": 158,
   "metadata": {},
   "outputs": [
    {
     "data": {
      "text/plain": [
       "'rule_o5s2'"
      ]
     },
     "execution_count": 158,
     "metadata": {},
     "output_type": "execute_result"
    }
   ],
   "source": [
    "keys = list(review_title_key.keys())\n",
    "title_key = keys[0]\n",
    "title_key"
   ]
  },
  {
   "cell_type": "code",
   "execution_count": 159,
   "metadata": {},
   "outputs": [],
   "source": [
    "scraper_1.set_rule_aliases(\n",
    "    {title_key: 'Review_Title'})\n",
    "scraper_1.keep_rules([title_key])\n",
    "scraper_1.save('Amazon-Reviews')\n"
   ]
  },
  {
   "cell_type": "code",
   "execution_count": 160,
   "metadata": {},
   "outputs": [],
   "source": [
    "scraper_1.load('Amazon-Reviews')\n",
    "x= input('Enter the link')\n",
    "result_1 = []\n",
    "for i in range(1, 20):\n",
    "    result = scraper_1.get_result_similar(x+'&pageNumber='+str(i), group_by_alias=True)\n",
    "    result_1.append(result['Review_Title'])\n"
   ]
  },
  {
   "cell_type": "code",
   "execution_count": 161,
   "metadata": {},
   "outputs": [
    {
     "data": {
      "text/plain": [
       "[['Love it!',\n",
       "  'Gotta collect them all!',\n",
       "  'A.D.D.I.C.T.E.D.❣️',\n",
       "  'Day two',\n",
       "  'Excellent formula, but be careful in color selection.',\n",
       "  'Amazing Red!',\n",
       "  'THE BEST liquid lipstick formula, of all time!',\n",
       "  'Amazing!!!',\n",
       "  'Love the shades and the stay!'],\n",
       " ['VERY pigmented, long-lasting, great deal',\n",
       "  'Faves for a Warm Undertone (Deep Autumn) South Asian: 50, 80, 160, and 275',\n",
       "  'Not as drying as others',\n",
       "  'Holy Grail Lipstick!',\n",
       "  \"I love the SuperStay Mattes! It needs to be easier to identify color #'s and names tho -\",\n",
       "  \"If you're crunchy it's not for you.\",\n",
       "  'Huntress is Fierce!',\n",
       "  'Beautiful',\n",
       "  'Sticks!'],\n",
       " ['Great wedding day lipstick!',\n",
       "  'Liquid Gold',\n",
       "  'Lasts for several hours without needing a touchup.',\n",
       "  'Great, with drawbacks',\n",
       "  'A MILLIOM TIMES YES!!!',\n",
       "  \"It's going to be a go to lip color...\",\n",
       "  'I never wear lip stick, stain, gloss or ...'],\n",
       " ['Lasts great!',\n",
       "  'Buy this stuff!',\n",
       "  'Just okay',\n",
       "  '8+ hours !',\n",
       "  'Been ordering this for years, long lasting and gorgeous',\n",
       "  'Confused as to what all the hype is about'],\n",
       " ['Loved Amazonian & Lover!',\n",
       "  'Stays put beneath your mask!',\n",
       "  'This stuff is NO JOKE',\n",
       "  'My Holy Grail lip color'],\n",
       " ['Love this lipstick!!',\n",
       "  '\"Ground Breaker\" red color',\n",
       "  'Stays and looks hydrated'],\n",
       " ['The hype is real!!',\n",
       "  'Way too sticky and hard to get off',\n",
       "  'Smudge proof',\n",
       "  \"It's a lipstick\",\n",
       "  'Truly amazing. Believe the hype',\n",
       "  'AWESOME LIPPY!!'],\n",
       " ['Would buy again',\n",
       "  'Seductress is better',\n",
       "  '180 - Revolutionary- Love this color'],\n",
       " ['Perfect Color!',\n",
       "  'Absolutely incredible for the price! (15 Lover)',\n",
       "  \"I ordered Dreamer this time and it's my favorite so far\",\n",
       "  'Was this previously opened/used? Also, not the color I was expecting.',\n",
       "  'Wanted to love.'],\n",
       " ['Perfect!', 'Ditch Lip$ense, this is WAY better!'],\n",
       " ['I have a few of these now but i wore it best last night',\n",
       "  'Awesome staying power',\n",
       "  'I want them all!',\n",
       "  'Ridiculous staying power'],\n",
       " ['Where has this been all my life?!',\n",
       "  'Color not as advertised, unfortunately',\n",
       "  'Really long-lasting!'],\n",
       " ['All day wear!',\n",
       "  'Wished do come True :)',\n",
       "  'Great lip stain!',\n",
       "  'STAYS ON for at LEAST 9 hours!!'],\n",
       " ['This stuff is INVINCIBLE',\n",
       "  'Doesn’t fade!!!',\n",
       "  'The only brand I trust through a busy day/night. For years!',\n",
       "  'Beautiful colors, lasts forever, long wearing!'],\n",
       " ['Nice long wear lipstick!',\n",
       "  'Food-proof, drink-proof',\n",
       "  'This lipstick is amazing.',\n",
       "  'Awesome for the price!'],\n",
       " ['Good customer service. Nice color',\n",
       "  \"Can't return even though I am allergic. Waste of money. Glue texture.\",\n",
       "  'Pretty Colors',\n",
       "  'Long Wear!'],\n",
       " [\"I usually don't like lipstick but I like this.\",\n",
       "  'Wonderful product.',\n",
       "  'Winner winner chicken dinner !',\n",
       "  'Listen to the 1 star reviews',\n",
       "  \"Best I've found so far\"],\n",
       " ['The Mocha Inventor color is perfect for African American or darker skin tones!',\n",
       "  'Will buy again!!'],\n",
       " ['This Stuff Stays Put',\n",
       "  'Great matte long wear lip color',\n",
       "  'Amazing!!',\n",
       "  'Love the color!',\n",
       "  'Maybelline Got It Right!',\n",
       "  'Stays PUT!'],\n",
       " ['Amazing Matte Long Wear',\n",
       "  'Stays put but feels sticky',\n",
       "  'Food and drink proof',\n",
       "  'Actually lasts all day',\n",
       "  'I hated it when I seen it, then loved it when I tried it on.'],\n",
       " ['Smooth, solid color that stays put',\n",
       "  'Great buy',\n",
       "  'Very good matte liquid lipstick, 4.5 🌟 if I could'],\n",
       " ['for brown / indian skin great colors!',\n",
       "  'OBSSESSED. Mask-proof',\n",
       "  'Seductress For The Win!'],\n",
       " ['Great color and stays on!'],\n",
       " ['Get it! BEST LIPSTICK EVER!',\n",
       "  'Versatile colors; long wear.',\n",
       "  'The value is insane',\n",
       "  'Somewhat inconsistent'],\n",
       " ['Love it!', 'Worth it'],\n",
       " ['Prep lips with some type of moisturizer first, thank me later x',\n",
       "  'Not the correct color',\n",
       "  'I’m impressed.',\n",
       "  'Love!',\n",
       "  'Stays on all day!'],\n",
       " ['Lasts All Day Long',\n",
       "  'Love it!',\n",
       "  'Happy!',\n",
       "  'Hello...did someone say longevity?'],\n",
       " ['Ruler | good for about 4 hours',\n",
       "  'Not the color I wanted',\n",
       "  'DREAMER a.k.a. Pepto pink!'],\n",
       " ['Well how bout that'],\n",
       " [],\n",
       " ['Looks good and lasts',\n",
       "  'Hazelnut Hypnotizer',\n",
       "  'The tube has 69 printed all over it 😤'],\n",
       " ['Obsessed', 'Beautiful color, and works!'],\n",
       " ['It stays, even when you don’t want it to'],\n",
       " ['Awesome',\n",
       "  \"I'm obsessed with these! The best matte long-lasting lipstick ever!\",\n",
       "  'Gorgeous color, could stay better',\n",
       "  'Stayed on'],\n",
       " ['320 Individualist'],\n",
       " [],\n",
       " ['WASTE OF MONEY BECAUSE LOOKS NOTHING LIKE PICTURE'],\n",
       " ['Beautiful Pink Red!', 'Great color'],\n",
       " ['Perfect beyond Perfect'],\n",
       " ['Nice surprise', 'Great quality matte lip color', 'Hands down favorite'],\n",
       " ['I recommend'],\n",
       " ['Careful where you purchase lipstick💄',\n",
       "  'Awful. Just awful.',\n",
       "  'Low quality seal but is BOMB'],\n",
       " ['Beautiful color and long lasting', 'It fell apart before I could use it'],\n",
       " ['Almost perfect', \"It won't budge or smudge\", 'Stays on SO LONG'],\n",
       " ['Sticky and smudges easily'],\n",
       " ['Exceeds expectations!', 'Mauvey plum & transfer proof'],\n",
       " ['Love the color-amazonian!',\n",
       "  'Lasts all day!',\n",
       "  'Beautiful Color and Stays On, Last Long.'],\n",
       " ['Perfect 100% recommend',\n",
       "  'Flakey/blotchy',\n",
       "  \"Try Maybelline's 24 HR instead.\"],\n",
       " ['Amazing and long lasting']]"
      ]
     },
     "execution_count": 161,
     "metadata": {},
     "output_type": "execute_result"
    }
   ],
   "source": [
    "result_1"
   ]
  },
  {
   "cell_type": "code",
   "execution_count": 162,
   "metadata": {},
   "outputs": [],
   "source": [
    "import pandas as pd\n"
   ]
  },
  {
   "cell_type": "code",
   "execution_count": 163,
   "metadata": {},
   "outputs": [
    {
     "name": "stdout",
     "output_type": "stream",
     "text": [
      "49\n"
     ]
    }
   ],
   "source": [
    "print(len(result_1))"
   ]
  },
  {
   "cell_type": "code",
   "execution_count": 164,
   "metadata": {},
   "outputs": [
    {
     "name": "stdout",
     "output_type": "stream",
     "text": [
      "9\n"
     ]
    }
   ],
   "source": [
    "print(len(result_1[0]))"
   ]
  },
  {
   "cell_type": "code",
   "execution_count": 165,
   "metadata": {},
   "outputs": [
    {
     "data": {
      "text/plain": [
       "['Love it!',\n",
       " 'Gotta collect them all!',\n",
       " 'A.D.D.I.C.T.E.D.❣️',\n",
       " 'Day two',\n",
       " 'Excellent formula, but be careful in color selection.',\n",
       " 'Amazing Red!',\n",
       " 'THE BEST liquid lipstick formula, of all time!',\n",
       " 'Amazing!!!',\n",
       " 'Love the shades and the stay!',\n",
       " 'VERY pigmented, long-lasting, great deal',\n",
       " 'Faves for a Warm Undertone (Deep Autumn) South Asian: 50, 80, 160, and 275',\n",
       " 'Not as drying as others',\n",
       " 'Holy Grail Lipstick!',\n",
       " \"I love the SuperStay Mattes! It needs to be easier to identify color #'s and names tho -\",\n",
       " \"If you're crunchy it's not for you.\",\n",
       " 'Huntress is Fierce!',\n",
       " 'Beautiful',\n",
       " 'Sticks!',\n",
       " 'Great wedding day lipstick!',\n",
       " 'Liquid Gold',\n",
       " 'Lasts for several hours without needing a touchup.',\n",
       " 'Great, with drawbacks',\n",
       " 'A MILLIOM TIMES YES!!!',\n",
       " \"It's going to be a go to lip color...\",\n",
       " 'I never wear lip stick, stain, gloss or ...',\n",
       " 'Lasts great!',\n",
       " 'Buy this stuff!',\n",
       " 'Just okay',\n",
       " '8+ hours !',\n",
       " 'Been ordering this for years, long lasting and gorgeous',\n",
       " 'Confused as to what all the hype is about',\n",
       " 'Loved Amazonian & Lover!',\n",
       " 'Stays put beneath your mask!',\n",
       " 'This stuff is NO JOKE',\n",
       " 'My Holy Grail lip color',\n",
       " 'Love this lipstick!!',\n",
       " '\"Ground Breaker\" red color',\n",
       " 'Stays and looks hydrated',\n",
       " 'The hype is real!!',\n",
       " 'Way too sticky and hard to get off',\n",
       " 'Smudge proof',\n",
       " \"It's a lipstick\",\n",
       " 'Truly amazing. Believe the hype',\n",
       " 'AWESOME LIPPY!!',\n",
       " 'Would buy again',\n",
       " 'Seductress is better',\n",
       " '180 - Revolutionary- Love this color',\n",
       " 'Perfect Color!',\n",
       " 'Absolutely incredible for the price! (15 Lover)',\n",
       " \"I ordered Dreamer this time and it's my favorite so far\",\n",
       " 'Was this previously opened/used? Also, not the color I was expecting.',\n",
       " 'Wanted to love.',\n",
       " 'Perfect!',\n",
       " 'Ditch Lip$ense, this is WAY better!',\n",
       " 'I have a few of these now but i wore it best last night',\n",
       " 'Awesome staying power',\n",
       " 'I want them all!',\n",
       " 'Ridiculous staying power',\n",
       " 'Where has this been all my life?!',\n",
       " 'Color not as advertised, unfortunately',\n",
       " 'Really long-lasting!',\n",
       " 'All day wear!',\n",
       " 'Wished do come True :)',\n",
       " 'Great lip stain!',\n",
       " 'STAYS ON for at LEAST 9 hours!!',\n",
       " 'This stuff is INVINCIBLE',\n",
       " 'Doesn’t fade!!!',\n",
       " 'The only brand I trust through a busy day/night. For years!',\n",
       " 'Beautiful colors, lasts forever, long wearing!',\n",
       " 'Nice long wear lipstick!',\n",
       " 'Food-proof, drink-proof',\n",
       " 'This lipstick is amazing.',\n",
       " 'Awesome for the price!',\n",
       " 'Good customer service. Nice color',\n",
       " \"Can't return even though I am allergic. Waste of money. Glue texture.\",\n",
       " 'Pretty Colors',\n",
       " 'Long Wear!',\n",
       " \"I usually don't like lipstick but I like this.\",\n",
       " 'Wonderful product.',\n",
       " 'Winner winner chicken dinner !',\n",
       " 'Listen to the 1 star reviews',\n",
       " \"Best I've found so far\",\n",
       " 'The Mocha Inventor color is perfect for African American or darker skin tones!',\n",
       " 'Will buy again!!',\n",
       " 'This Stuff Stays Put',\n",
       " 'Great matte long wear lip color',\n",
       " 'Amazing!!',\n",
       " 'Love the color!',\n",
       " 'Maybelline Got It Right!',\n",
       " 'Stays PUT!',\n",
       " 'Amazing Matte Long Wear',\n",
       " 'Stays put but feels sticky',\n",
       " 'Food and drink proof',\n",
       " 'Actually lasts all day',\n",
       " 'I hated it when I seen it, then loved it when I tried it on.',\n",
       " 'Smooth, solid color that stays put',\n",
       " 'Great buy',\n",
       " 'Very good matte liquid lipstick, 4.5 🌟 if I could',\n",
       " 'for brown / indian skin great colors!',\n",
       " 'OBSSESSED. Mask-proof',\n",
       " 'Seductress For The Win!',\n",
       " 'Great color and stays on!',\n",
       " 'Get it! BEST LIPSTICK EVER!',\n",
       " 'Versatile colors; long wear.',\n",
       " 'The value is insane',\n",
       " 'Somewhat inconsistent',\n",
       " 'Love it!',\n",
       " 'Worth it',\n",
       " 'Prep lips with some type of moisturizer first, thank me later x',\n",
       " 'Not the correct color',\n",
       " 'I’m impressed.',\n",
       " 'Love!',\n",
       " 'Stays on all day!',\n",
       " 'Lasts All Day Long',\n",
       " 'Love it!',\n",
       " 'Happy!',\n",
       " 'Hello...did someone say longevity?',\n",
       " 'Ruler | good for about 4 hours',\n",
       " 'Not the color I wanted',\n",
       " 'DREAMER a.k.a. Pepto pink!',\n",
       " 'Well how bout that',\n",
       " 'Looks good and lasts',\n",
       " 'Hazelnut Hypnotizer',\n",
       " 'The tube has 69 printed all over it 😤',\n",
       " 'Obsessed',\n",
       " 'Beautiful color, and works!',\n",
       " 'It stays, even when you don’t want it to',\n",
       " 'Awesome',\n",
       " \"I'm obsessed with these! The best matte long-lasting lipstick ever!\",\n",
       " 'Gorgeous color, could stay better',\n",
       " 'Stayed on',\n",
       " '320 Individualist',\n",
       " 'WASTE OF MONEY BECAUSE LOOKS NOTHING LIKE PICTURE',\n",
       " 'Beautiful Pink Red!',\n",
       " 'Great color',\n",
       " 'Perfect beyond Perfect',\n",
       " 'Nice surprise',\n",
       " 'Great quality matte lip color',\n",
       " 'Hands down favorite',\n",
       " 'I recommend',\n",
       " 'Careful where you purchase lipstick💄',\n",
       " 'Awful. Just awful.',\n",
       " 'Low quality seal but is BOMB',\n",
       " 'Beautiful color and long lasting',\n",
       " 'It fell apart before I could use it',\n",
       " 'Almost perfect',\n",
       " \"It won't budge or smudge\",\n",
       " 'Stays on SO LONG',\n",
       " 'Sticky and smudges easily',\n",
       " 'Exceeds expectations!',\n",
       " 'Mauvey plum & transfer proof',\n",
       " 'Love the color-amazonian!',\n",
       " 'Lasts all day!',\n",
       " 'Beautiful Color and Stays On, Last Long.',\n",
       " 'Perfect 100% recommend',\n",
       " 'Flakey/blotchy',\n",
       " \"Try Maybelline's 24 HR instead.\",\n",
       " 'Amazing and long lasting']"
      ]
     },
     "execution_count": 165,
     "metadata": {},
     "output_type": "execute_result"
    }
   ],
   "source": [
    "reviews = []\n",
    "for i in range (len(result_1)):\n",
    "  for j in range (len(result_1[i])):\n",
    "    reviews.append(result_1[i][j])\n",
    "reviews"
   ]
  },
  {
   "cell_type": "code",
   "execution_count": 166,
   "metadata": {},
   "outputs": [],
   "source": [
    "review_dict = {'prodct_review':reviews}"
   ]
  },
  {
   "cell_type": "code",
   "execution_count": 167,
   "metadata": {},
   "outputs": [],
   "source": [
    "df = pd.DataFrame(review_dict)"
   ]
  },
  {
   "cell_type": "code",
   "execution_count": 168,
   "metadata": {},
   "outputs": [
    {
     "data": {
      "text/html": [
       "<div>\n",
       "<style scoped>\n",
       "    .dataframe tbody tr th:only-of-type {\n",
       "        vertical-align: middle;\n",
       "    }\n",
       "\n",
       "    .dataframe tbody tr th {\n",
       "        vertical-align: top;\n",
       "    }\n",
       "\n",
       "    .dataframe thead th {\n",
       "        text-align: right;\n",
       "    }\n",
       "</style>\n",
       "<table border=\"1\" class=\"dataframe\">\n",
       "  <thead>\n",
       "    <tr style=\"text-align: right;\">\n",
       "      <th></th>\n",
       "      <th>prodct_review</th>\n",
       "    </tr>\n",
       "  </thead>\n",
       "  <tbody>\n",
       "    <tr>\n",
       "      <th>0</th>\n",
       "      <td>Love it!</td>\n",
       "    </tr>\n",
       "    <tr>\n",
       "      <th>1</th>\n",
       "      <td>Gotta collect them all!</td>\n",
       "    </tr>\n",
       "    <tr>\n",
       "      <th>2</th>\n",
       "      <td>A.D.D.I.C.T.E.D.❣️</td>\n",
       "    </tr>\n",
       "    <tr>\n",
       "      <th>3</th>\n",
       "      <td>Day two</td>\n",
       "    </tr>\n",
       "    <tr>\n",
       "      <th>4</th>\n",
       "      <td>Excellent formula, but be careful in color sel...</td>\n",
       "    </tr>\n",
       "    <tr>\n",
       "      <th>...</th>\n",
       "      <td>...</td>\n",
       "    </tr>\n",
       "    <tr>\n",
       "      <th>153</th>\n",
       "      <td>Beautiful Color and Stays On, Last Long.</td>\n",
       "    </tr>\n",
       "    <tr>\n",
       "      <th>154</th>\n",
       "      <td>Perfect 100% recommend</td>\n",
       "    </tr>\n",
       "    <tr>\n",
       "      <th>155</th>\n",
       "      <td>Flakey/blotchy</td>\n",
       "    </tr>\n",
       "    <tr>\n",
       "      <th>156</th>\n",
       "      <td>Try Maybelline's 24 HR instead.</td>\n",
       "    </tr>\n",
       "    <tr>\n",
       "      <th>157</th>\n",
       "      <td>Amazing and long lasting</td>\n",
       "    </tr>\n",
       "  </tbody>\n",
       "</table>\n",
       "<p>158 rows × 1 columns</p>\n",
       "</div>"
      ],
      "text/plain": [
       "                                         prodct_review\n",
       "0                                             Love it!\n",
       "1                              Gotta collect them all!\n",
       "2                                   A.D.D.I.C.T.E.D.❣️\n",
       "3                                              Day two\n",
       "4    Excellent formula, but be careful in color sel...\n",
       "..                                                 ...\n",
       "153           Beautiful Color and Stays On, Last Long.\n",
       "154                             Perfect 100% recommend\n",
       "155                                     Flakey/blotchy\n",
       "156                    Try Maybelline's 24 HR instead.\n",
       "157                           Amazing and long lasting\n",
       "\n",
       "[158 rows x 1 columns]"
      ]
     },
     "execution_count": 168,
     "metadata": {},
     "output_type": "execute_result"
    }
   ],
   "source": [
    "df"
   ]
  },
  {
   "cell_type": "code",
   "execution_count": 169,
   "metadata": {},
   "outputs": [],
   "source": [
    "df.to_csv('product_reviews.csv')\n"
   ]
  },
  {
   "cell_type": "code",
   "execution_count": null,
   "metadata": {},
   "outputs": [],
   "source": []
  }
 ],
 "metadata": {
  "interpreter": {
   "hash": "f940a2724a61ff987b7751254c33f190137ed88b3902ee52b0d4a7ee79ee3f35"
  },
  "kernelspec": {
   "display_name": "Python 3.8.10 64-bit ('Residency': conda)",
   "name": "python3"
  },
  "language_info": {
   "codemirror_mode": {
    "name": "ipython",
    "version": 3
   },
   "file_extension": ".py",
   "mimetype": "text/x-python",
   "name": "python",
   "nbconvert_exporter": "python",
   "pygments_lexer": "ipython3",
   "version": "3.8.10"
  },
  "orig_nbformat": 4
 },
 "nbformat": 4,
 "nbformat_minor": 2
}
