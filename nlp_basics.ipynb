{
 "cells": [
  {
   "cell_type": "code",
   "execution_count": 13,
   "source": [
    "from autoscraper import AutoScraper\r\n",
    "\r\n",
    "url = 'https://github.com/Hani1-2?tab=repositories'\r\n",
    "wanted_list = [\"9\",\"Explorartory_Data_Analysis\"]\r\n",
    "\r\n",
    "scraper = AutoScraper()\r\n",
    "result = scraper.build(url,wanted_list)\r\n",
    "print(result)"
   ],
   "outputs": [
    {
     "output_type": "stream",
     "name": "stdout",
     "text": [
      "['9', '1', '147', '98', '50', '201', '2,310', '176', '136', '114', 'Explorartory_Data_Analysis', 'loan-approval', 'Ecommerce', 'Oniline-Boutique', 'Online-Boutique', 'Home', 'Residential-Recommendation', 'community', 'Communities', 'ShapeAI_Haniya_Maqsood', '40-Algorithms-Every-Programmer-Should-Know', 'Residency', 'LibraryManagement', 'DeepLearningAssignmnt', 'BakeShop', 'DeepLearningAssignment', 'piaic_q2_class_reseouces', 'Fast-Track-to-Data-Science-30-Days', 'Quarter2', 'Batch04_to_35', 'android-fundamentals-apps-v2', 'wa4e', 'MixNMatch', 'PIAIC_ISLAMABAD_BATCH3', 'bootcamp-react', 'first_program', 'flowdemo', 'first-demo', 'thirddemo', 'new-demo']\n"
     ]
    }
   ],
   "metadata": {}
  },
  {
   "cell_type": "code",
   "execution_count": 14,
   "source": [
    "scraper.get_result_similar(\r\n",
    "    \"https://github.com/Hani1-2?tab=repositories\", grouped=True)\r\n"
   ],
   "outputs": [
    {
     "output_type": "execute_result",
     "data": {
      "text/plain": [
       "{'rule_nf9y': ['9',\n",
       "  '1',\n",
       "  '1',\n",
       "  '1',\n",
       "  '147',\n",
       "  '98',\n",
       "  '50',\n",
       "  '201',\n",
       "  '2,310',\n",
       "  '176',\n",
       "  '136',\n",
       "  '114'],\n",
       " 'rule_2pyj': ['Explorartory_Data_Analysis',\n",
       "  'loan-approval',\n",
       "  'Ecommerce',\n",
       "  'Oniline-Boutique',\n",
       "  'Online-Boutique',\n",
       "  'Home',\n",
       "  'Residential-Recommendation',\n",
       "  'community',\n",
       "  'Communities',\n",
       "  'ShapeAI_Haniya_Maqsood',\n",
       "  '40-Algorithms-Every-Programmer-Should-Know',\n",
       "  'Residency',\n",
       "  'LibraryManagement',\n",
       "  'DeepLearningAssignmnt',\n",
       "  'BakeShop',\n",
       "  'DeepLearningAssignment',\n",
       "  'piaic_q2_class_reseouces',\n",
       "  'Fast-Track-to-Data-Science-30-Days',\n",
       "  'Quarter2',\n",
       "  'Batch04_to_35',\n",
       "  'android-fundamentals-apps-v2',\n",
       "  'wa4e',\n",
       "  'MixNMatch',\n",
       "  'PIAIC_ISLAMABAD_BATCH3',\n",
       "  'bootcamp-react',\n",
       "  'first_program',\n",
       "  'flowdemo',\n",
       "  'first-demo',\n",
       "  'thirddemo',\n",
       "  'new-demo']}"
      ]
     },
     "metadata": {},
     "execution_count": 14
    }
   ],
   "metadata": {}
  },
  {
   "cell_type": "code",
   "execution_count": 16,
   "source": [
    "scraper.set_rule_aliases({'rule_nf9y': 'Forked', 'rule_2pyj': 'Title'})\r\n"
   ],
   "outputs": [],
   "metadata": {}
  },
  {
   "cell_type": "code",
   "execution_count": 17,
   "source": [
    "scraper.keep_rules(['rule_nf9y', 'rule_2pyj'])\r\n",
    "scraper.save('Github-Repository-Search')\r\n"
   ],
   "outputs": [],
   "metadata": {}
  },
  {
   "cell_type": "code",
   "execution_count": 23,
   "source": [
    "scraper.load('Github-Repository-Search')"
   ],
   "outputs": [],
   "metadata": {}
  },
  {
   "cell_type": "code",
   "execution_count": 24,
   "source": [
    "result = scraper.get_result_similar(\r\n",
    "    \"https://github.com/techwithtim?tab=repositories\", group_by_alias=True)\r\n"
   ],
   "outputs": [],
   "metadata": {}
  },
  {
   "cell_type": "code",
   "execution_count": 25,
   "source": [
    "result"
   ],
   "outputs": [
    {
     "output_type": "execute_result",
     "data": {
      "text/plain": [
       "{'Forked': ['37',\n",
       "  '10',\n",
       "  '62',\n",
       "  '36',\n",
       "  '126',\n",
       "  '2',\n",
       "  '19',\n",
       "  '9',\n",
       "  '146',\n",
       "  '99',\n",
       "  '27',\n",
       "  '518',\n",
       "  '208',\n",
       "  '85',\n",
       "  '46',\n",
       "  '231',\n",
       "  '20',\n",
       "  '28',\n",
       "  '245',\n",
       "  '198',\n",
       "  '3',\n",
       "  '22',\n",
       "  '53',\n",
       "  '495',\n",
       "  '79',\n",
       "  '2',\n",
       "  '26',\n",
       "  '164',\n",
       "  '89',\n",
       "  '17'],\n",
       " 'Title': ['Flask-Blog-Tutorial',\n",
       "  'Pygame-Car-Racer',\n",
       "  '5-Python-Projects-For-Beginners',\n",
       "  'Python-Security-Camera',\n",
       "  'PygameForBeginners',\n",
       "  'whack-it',\n",
       "  'Beautiful-Soup-Tutorial',\n",
       "  'Tuya-Smart-IOT-Tutorial',\n",
       "  'Snake-Game',\n",
       "  'Cornavirus-Voice-Assistant',\n",
       "  'Python-Socket-Chat-App',\n",
       "  'NEAT-Flappy-Bird',\n",
       "  'Online-Chess-Game',\n",
       "  'Number-Guesser-Neural-Net',\n",
       "  'Python-Checkers',\n",
       "  'Chat-Web-App',\n",
       "  'TypingDNA-Verify-API-Tutorial',\n",
       "  'PythonPaintProgram',\n",
       "  'Music-Controller-Web-App-Tutorial',\n",
       "  'Flask-Web-App-Tutorial',\n",
       "  'Python-Fractal-Art',\n",
       "  'Agora-Group-Video-Calling',\n",
       "  'Turtle-Race',\n",
       "  'Sudoku-GUI-Solver',\n",
       "  'OpenCV-Tutorials',\n",
       "  'material-ui',\n",
       "  'ExcelPythonTutorial',\n",
       "  'Hangman',\n",
       "  'Kivy-GUI-Example',\n",
       "  'Turtle-Racing-V2']}"
      ]
     },
     "metadata": {},
     "execution_count": 25
    }
   ],
   "metadata": {}
  },
  {
   "cell_type": "code",
   "execution_count": 26,
   "source": [
    "result['Title']"
   ],
   "outputs": [
    {
     "output_type": "execute_result",
     "data": {
      "text/plain": [
       "['Flask-Blog-Tutorial',\n",
       " 'Pygame-Car-Racer',\n",
       " '5-Python-Projects-For-Beginners',\n",
       " 'Python-Security-Camera',\n",
       " 'PygameForBeginners',\n",
       " 'whack-it',\n",
       " 'Beautiful-Soup-Tutorial',\n",
       " 'Tuya-Smart-IOT-Tutorial',\n",
       " 'Snake-Game',\n",
       " 'Cornavirus-Voice-Assistant',\n",
       " 'Python-Socket-Chat-App',\n",
       " 'NEAT-Flappy-Bird',\n",
       " 'Online-Chess-Game',\n",
       " 'Number-Guesser-Neural-Net',\n",
       " 'Python-Checkers',\n",
       " 'Chat-Web-App',\n",
       " 'TypingDNA-Verify-API-Tutorial',\n",
       " 'PythonPaintProgram',\n",
       " 'Music-Controller-Web-App-Tutorial',\n",
       " 'Flask-Web-App-Tutorial',\n",
       " 'Python-Fractal-Art',\n",
       " 'Agora-Group-Video-Calling',\n",
       " 'Turtle-Race',\n",
       " 'Sudoku-GUI-Solver',\n",
       " 'OpenCV-Tutorials',\n",
       " 'material-ui',\n",
       " 'ExcelPythonTutorial',\n",
       " 'Hangman',\n",
       " 'Kivy-GUI-Example',\n",
       " 'Turtle-Racing-V2']"
      ]
     },
     "metadata": {},
     "execution_count": 26
    }
   ],
   "metadata": {}
  },
  {
   "cell_type": "markdown",
   "source": [
    "AMAZON REVIEWS"
   ],
   "metadata": {}
  },
  {
   "cell_type": "code",
   "execution_count": 40,
   "source": [
    "amazon_url = \"https://www.amazon.com/s?k=cat+collar&i=specialty-aps&srs=5709762011&crid=3VKFMGFASWZVW&sprefix=cat+collar%2Cspecialty-aps%2C368\"\r\n",
    "\r\n",
    "wish_list = [\r\n",
    "    'Upgraded Version - Reflective Cat Collar with Bell, Set of 6, Solid & Safe Collars for Cats, Nylon, Mixed Colors, Pet Collar, Breakaway Cat Collar, Free Replacement (6-Pack)', '13,379']\r\n",
    "\r\n",
    "scraper_1 = AutoScraper()\r\n",
    "result = scraper_1.build(amazon_url, wish_list)\r\n",
    "print(result)\r\n"
   ],
   "outputs": [
    {
     "output_type": "stream",
     "name": "stdout",
     "text": [
      "['Upgraded Version - Reflective Cat Collar with Bell, Set of 6, Solid & Safe Collars for Cats, Nylon, Mixed Colors, Pet Collar, Breakaway Cat Collar, Free Replacement (6-Pack)', 'Faleela Breakaway Cat Collar with Bells - 2 Pack Cat Collar with Bells, Cat Collars with Bandana, Accessories for Pet Collars, Adjustable for Cats and Small Dogs', 'PACCOMFET FUNPET 6 Pcs Breakaway Cat Collar with Reflective Nylon Strip and Bell, Safe and Durable', 'WAAAG Pet Collar Gold Moons and Stars Cat Collar, Safety Breakaway Cat Collar, Glow in The Dark', 'Murom Leather Cat Collar with Bell Adjustable Small Pet Kitten Collars Black Brown Pink Blue', 'Extodry 14 Pack Reflective-Breakaway Cat Collars with Bells,Safety Buckle Kitten Collar,with Name Tag,Adjustable,Ideal for Girl Male Cats, Pet Supplies,Stuff,Accessories(12 Colors & 2 ID Tags)', 'EXPAWLORER Cat Collar Breakaway with Bells - 2 Pack Rhinestones Bling Diamante Collars - Soft Velvet Safe Adjustable Shing Collar for Cats Kitty Girls and Small Dogs', 'Upgraded Version - Cat Collar Stars and Moon, 4-Pack, Reflective with Bell, Solid & Safe Collars for Cats, Nylon, Kitty Collars, Pet Collar, Breakaway Cat Collar, Free Replacement', 'Murom Breakaway Cat Collar Leather Soft Adjustable Pet Kitten Collars with Bell Pink Brown Blue Green Red', 'CollarDirect Leather Cat Collar, Cat Safety Collar with Elastic Strap, Kitten Collar for Cat with Bell Black Blue Red Orange Lime Green', 'Gyapet Collar for Cats Pets Breakaway with Bell Bowtie Floral Bow Detachable Adjustable Safety Puppy', 'Lamphyface 2 Pack/Set Halloween Cat Collar Breakaway with Cute Bow Tie and Bell for Kitty Adjustable Safety', 'WAAAG Pet, Moons Stars Suns Dog Collar Cat Collar Hound Collar, Multiple Designs Crescent Celestial Dog Collar Hound Collar Cat Collar', 'D-BUY Cat Collars, Cat Collars with Bell, Breakaway Cat Collars, Reflective Cat Collars, Nylon Cat Collars with Bell, Collars for Cats, Collars for Puppies', 'Jamktepat 3 Pack Leather Cat Collars with Bells Soft Pet Safety Collar Kitten Collars with Bell Black Chocolate Beige', 'hatatit 3 Pack Halloween Adjustable Cat Collars Pumpkin Ghost Bat Patterns Breakaway Pet Cat Collars with Removable Bow Tie and Bell for Kitten Kitty Cat Halloween Party', '13,379', '527', '4,540', '10,498', '39', '1,194', '727', '5,042', '3', '9,074', '1,116', '174', '1,633', '1,432', '281', '4']\n"
     ]
    }
   ],
   "metadata": {}
  },
  {
   "cell_type": "code",
   "execution_count": 41,
   "source": [
    "scraper_1.get_result_similar(amazon_url,grouped=True)"
   ],
   "outputs": [
    {
     "output_type": "execute_result",
     "data": {
      "text/plain": [
       "{'rule_nmej': ['Upgraded Version - Reflective Cat Collar with Bell, Set of 6, Solid & Safe Collars for Cats, Nylon, Mixed Colors, Pet Collar, Breakaway Cat Collar, Free Replacement (6-Pack)',\n",
       "  'WAAAG Pet Collar Gold Moons and Stars Cat Collar, Safety Breakaway Cat Collar, Glow in The Dark',\n",
       "  'Extodry 14 Pack Reflective-Breakaway Cat Collars with Bells,Safety Buckle Kitten Collar,with Name Tag,Adjustable,Ideal for Girl Male Cats, Pet Supplies,Stuff,Accessories(12 Colors & 2 ID Tags)',\n",
       "  'Upgraded Version - Cat Collar Stars and Moon, 4-Pack, Reflective with Bell, Solid & Safe Collars for Cats, Nylon, Kitty Collars, Pet Collar, Breakaway Cat Collar, Free Replacement',\n",
       "  'Faleela Breakaway Cat Collar with Bells - 2 Pack Cat Collar with Bells, Cat Collars with Bandana, Accessories for Pet Collars, Adjustable for Cats and Small Dogs',\n",
       "  'PACCOMFET FUNPET 6 Pcs Breakaway Cat Collar with Reflective Nylon Strip and Bell, Safe and Durable',\n",
       "  'KOOLTAIL Breakaway Cat Collar with Bells - 3 Pack Adjustable Floral Safety Kitten Collars',\n",
       "  'Murom Breakaway Cat Collar Leather Soft Adjustable Pet Kitten Collars with Bell Pink Brown Blue Green Red',\n",
       "  'WAAAG Pet, Moons Stars Suns Dog Collar Cat Collar Hound Collar, Multiple Designs Crescent Celestial Dog Collar Hound Collar Cat Collar',\n",
       "  'Murom Leather Cat Collar with Bell Adjustable Small Pet Kitten Collars Black Brown Pink Blue',\n",
       "  'CollarDirect Leather Cat Collar, Cat Safety Collar with Elastic Strap, Kitten Collar for Cat with Bell Black Blue Red Orange Lime Green',\n",
       "  'EXPAWLORER Cat Collar Breakaway with Bells - 2 Pack Rhinestones Bling Diamante Collars - Soft Velvet Safe Adjustable Shing Collar for Cats Kitty Girls and Small Dogs',\n",
       "  'D-BUY Cat Collars, Cat Collars with Bell, Breakaway Cat Collars, Reflective Cat Collars, Nylon Cat Collars with Bell, Collars for Cats, Collars for Puppies',\n",
       "  '2 Pack Halloween Cat Collar with Bow Tie and Bell, Holiday Jack-O-Lantern and Spider Collar for Kitty Kitten Adult Cats(Adjustable Size from 7.8-12.8 inch)',\n",
       "  'CPFK Cat Calming Collar 3 Pack Pheromone Calm Anxiety Collar for Cats and Kittens Stress Reliever Relaxing Comfortable Collar Breakaway Design Gray',\n",
       "  'Cat Collar Breakaway Reflective with Bell - Paw and Heart Unique Design, Set of 6, Solid & Safe Collars for Cats, Nylon, Mixed Colors, Pet, Breakaway Cat Collar, Free Replacement'],\n",
       " 'rule_jxnj': ['13,379',\n",
       "  '10,498',\n",
       "  '1,194',\n",
       "  '5,042',\n",
       "  '527',\n",
       "  '4,540',\n",
       "  '140',\n",
       "  '3',\n",
       "  '1,633',\n",
       "  '39',\n",
       "  '9,074',\n",
       "  '727',\n",
       "  '1,432',\n",
       "  '56',\n",
       "  '658',\n",
       "  '998']}"
      ]
     },
     "metadata": {},
     "execution_count": 41
    }
   ],
   "metadata": {}
  },
  {
   "cell_type": "code",
   "execution_count": 47,
   "source": [
    "scraper_1.set_rule_aliases({'rule_nmej': 'Title'})\r\n",
    "scraper.keep_rules(['rule_nmej'])\r\n",
    "scraper_1.save('Amazon-Search')\r\n"
   ],
   "outputs": [],
   "metadata": {}
  },
  {
   "cell_type": "code",
   "execution_count": 48,
   "source": [
    "scraper_1.load('Amazon-Search')"
   ],
   "outputs": [],
   "metadata": {}
  },
  {
   "cell_type": "code",
   "execution_count": 50,
   "source": [
    "scraper_1.get_result_similar(\r\n",
    "    'https://www.amazon.com/s?k=maybelline+foundation&i=specialty-aps&srs=5709762011&crid=HET7YOAHU15R&sprefix=Maybe%2Cspecialty-aps%2C919&', group_by_alias=True)\r\n"
   ],
   "outputs": [
    {
     "output_type": "execute_result",
     "data": {
      "text/plain": [
       "{'Title': ['Maybelline Fit Me Matte + Poreless Liquid Foundation Makeup, Classic Ivory, 1 fl. oz. Oil-Free Foundation  Liquid · 1 Fl Oz (Pack of 1)',\n",
       "  'Maybelline Super Stay Full Coverage Liquid Foundation Makeup, Mocha, 1 Fl Oz  Liquid · 1 Fl Oz (Pack of 1)',\n",
       "  'Maybelline New York Fit Me Dewy + Smooth Foundation, 120 Classic Ivory, 1 Fl. Oz (Count of 1) (Packaging May Vary)  Cream · 1 Fl Oz (Pack of 1)',\n",
       "  'Maybelline New York Dream Satin Liquid Foundation (Dream Liquid Mousse Foundation), Creamy Natural, 1 fl. oz.  Liquid · 1 Fl Oz (Pack of 1)',\n",
       "  'Maybelline Dream Radiant Liquid Medium Coverage Hydrating Makeup, Lightweight Liquid Foundation, Porcelain Ivory, 1 Fl; Oz  Liquid · 1 Fl Oz (Pack of 1)',\n",
       "  'Maybelline New York Super Stay Full Coverage Powder Foundation Makeup, 130 Buff Beige, 0.18 Oz  Powder · 0.21 Ounce (Pack of 1)',\n",
       "  'Maybelline Dream Matte Mousse Foundation, Classic Ivory, 0.64 Fl Oz (Pack of 1)  0.64 Fl Oz (Pack of 1)',\n",
       "  'Maybelline New York Dream Urban Cover Flawless Coverage Foundation Makeup, SPF 50, 120 Classic Ivory, 1 Fl Oz  Liquid · 1 Fl Oz (Pack of 1)',\n",
       "  'Maybelline New York Instant Age Rewind Eraser Treatment Makeup, Classic Ivory, 0.68 fl. oz.  Stick · 0.68 Fl Oz (Pack of 1)',\n",
       "  'Maybelline New York Fit Me Shine-Free + Balance Stick Foundation, Natural Beige, 0.32 oz.  0.32 Ounce (Pack of 1)',\n",
       "  'Maybelline Dream Velvet Soft-Matte Hydrating Foundation, Nude, 1 fl. oz.  Gel · 1 Fl Oz (Pack of 1)',\n",
       "  'Maybelline Dream Matte Mousse Foundation, Nude [4], 0.64 oz (Pack of 3)',\n",
       "  'Maybelline New York SuperStay Multi-Use Foundation Stick Makeup For Normal to Oily Skin, Buff Beige, 0.25 oz.  Stick · 0.25 Ounce (Pack of 1)',\n",
       "  'Maybelline New York Fit Me Matte + Poreless Liquid Foundation, Pouch Format, 122 Creamy Beige, 1.3 Ounce  Liquid · 1.3 Fl Oz (Pack of 1)',\n",
       "  'Maybelline Fit Me Matte + Poreless Liquid Foundation Makeup, Buff Beige, 2 COUNT  Liquid',\n",
       "  'Maybelline New York Super Stay Foundation Stick for Normal To Oily Skin, Honey, 0.25 Ounce  Stick · 0.25 Ounce (Pack of 1)'],\n",
       " '': ['71,922',\n",
       "  '13,621',\n",
       "  '15,977',\n",
       "  '4,728',\n",
       "  '2,890',\n",
       "  '5,322',\n",
       "  '4,412',\n",
       "  '3,447',\n",
       "  '5,928',\n",
       "  '9,006',\n",
       "  '1,916',\n",
       "  '13',\n",
       "  '2,245',\n",
       "  '8,191',\n",
       "  '53',\n",
       "  '746']}"
      ]
     },
     "metadata": {},
     "execution_count": 50
    }
   ],
   "metadata": {}
  },
  {
   "cell_type": "code",
   "execution_count": null,
   "source": [],
   "outputs": [],
   "metadata": {}
  }
 ],
 "metadata": {
  "orig_nbformat": 4,
  "language_info": {
   "name": "python",
   "version": "3.7.6",
   "mimetype": "text/x-python",
   "codemirror_mode": {
    "name": "ipython",
    "version": 3
   },
   "pygments_lexer": "ipython3",
   "nbconvert_exporter": "python",
   "file_extension": ".py"
  },
  "kernelspec": {
   "name": "python3",
   "display_name": "Python 3.7.6 64-bit ('base': conda)"
  },
  "interpreter": {
   "hash": "d421f7e0be82773f79ff071f6681b3a26ad583fa2b319fe248c43945bdde9151"
  }
 },
 "nbformat": 4,
 "nbformat_minor": 2
}