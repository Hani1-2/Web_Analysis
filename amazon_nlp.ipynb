{
 "cells": [
  {
   "cell_type": "code",
   "execution_count": 8,
   "metadata": {},
   "outputs": [
    {
     "name": "stderr",
     "output_type": "stream",
     "text": [
      "[nltk_data] Downloading package vader_lexicon to\n",
      "[nltk_data]     C:\\Users\\Hp\\AppData\\Roaming\\nltk_data...\n",
      "[nltk_data]   Package vader_lexicon is already up-to-date!\n"
     ]
    }
   ],
   "source": [
    "# from nltk.sentiment.vader import SentimentIntensityAnalyzer\n",
    "# import nltk\n",
    "# import pandas as pd\n",
    "# nltk.download('vader_lexicon')\n",
    "# import os\n",
    "\n",
    "# def parse_values(x):\n",
    "#     if x < 0:\n",
    "#        return 'negative'\n",
    "#     elif x == 0:\n",
    "#        return 'neutral'\n",
    "#     else:\n",
    "#        return 'positive'\n",
    "\n",
    "# sid = SentimentIntensityAnalyzer()\n",
    "# df = pd.read_csv('product_reviews.csv')\n",
    "# df['prodct_review'].isnull().sum()\n",
    "# df['scores'] = df['prodct_review'].apply(\n",
    "#     lambda review: sid.polarity_scores(review))\n",
    "# df['compound'] = df['scores'].apply(lambda score_dict: score_dict['compound'])\n",
    "# df['comp_score'] = df['compound'].apply(parse_values)\n",
    "# df.to_csv('sentiments_1.csv')\n",
    "\n"
   ]
  },
  {
   "cell_type": "code",
   "execution_count": 9,
   "metadata": {},
   "outputs": [],
   "source": [
    "\n",
    "# os.remove('sentiments_1.csv')"
   ]
  },
  {
   "cell_type": "code",
   "execution_count": null,
   "metadata": {},
   "outputs": [],
   "source": []
  }
 ],
 "metadata": {
  "interpreter": {
   "hash": "d421f7e0be82773f79ff071f6681b3a26ad583fa2b319fe248c43945bdde9151"
  },
  "kernelspec": {
   "display_name": "Python 3.7.6 64-bit ('base': conda)",
   "name": "python3"
  },
  "language_info": {
   "codemirror_mode": {
    "name": "ipython",
    "version": 3
   },
   "file_extension": ".py",
   "mimetype": "text/x-python",
   "name": "python",
   "nbconvert_exporter": "python",
   "pygments_lexer": "ipython3",
   "version": "3.7.6"
  },
  "orig_nbformat": 4
 },
 "nbformat": 4,
 "nbformat_minor": 2
}
