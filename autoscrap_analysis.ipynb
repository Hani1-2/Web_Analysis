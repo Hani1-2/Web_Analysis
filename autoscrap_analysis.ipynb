{
 "cells": [
  {
   "cell_type": "markdown",
   "metadata": {},
   "source": [
    "AUTO SCRAPER:\n",
    "Auto scraper is used to fetch the reviews from the given URL. We have to provie a wishlist like what values we have to scrap from the webpage. In given code, the wishlist contain the review title or how much people find it useful. We can also retrieve the star rating to enhance our project."
   ]
  },
  {
   "cell_type": "code",
   "execution_count": 4,
   "metadata": {},
   "outputs": [],
   "source": [
    "from autoscraper import AutoScraper\n",
    "import pandas as pd\n",
    "\n",
    "def scrape(x):\n",
    "  amazon_url = \"https://www.amazon.com/Maybelline-SuperStay-Matte-Liquid-Lipstick/product-reviews/B074VD4X86/ref=cm_cr_dp_d_show_all_btm?ie=UTF8&reviewerType=all_reviews\"\n",
    "\n",
    "  wish_list = ['Love it!', '362 people found this helpful']\n",
    "\n",
    "  scraper_1 = AutoScraper()\n",
    "  result = scraper_1.build(amazon_url, wish_list)\n",
    "  review_title_key=scraper_1.get_result_similar(amazon_url, grouped= True)\n",
    "  keys = list(review_title_key.keys())\n",
    "  title_key = keys[0]\n",
    "  scraper_1.set_rule_aliases({title_key: 'Review_Title'})\n",
    "  scraper_1.keep_rules([title_key])\n",
    "  scraper_1.save('Amazon-Reviews')\n",
    "  scraper_1.load('Amazon-Reviews')\n",
    "  link = x\n",
    "  result_1 = []\n",
    "  for i in range(1, 20):\n",
    "    result = scraper_1.get_result_similar(\n",
    "        link+'&pageNumber='+str(i), group_by_alias=True)\n",
    "    result_1.append(result['Review_Title'])\n",
    "  reviews = []\n",
    "  for i in range(len(result_1)):\n",
    "    for j in range(len(result_1[i])):\n",
    "      reviews.append(result_1[i][j])\n",
    "  review_dict = {'prodct_review': reviews}\n",
    "  df = pd.DataFrame(review_dict)\n",
    "  df.to_csv('product_reviews.csv')\n",
    "  return df\n"
   ]
  },
  {
   "cell_type": "markdown",
   "metadata": {},
   "source": [
    "First we define wishlist for autoscraper argument, build function takes URL and wishlist for scraping data, get_result_similar scrap data in a form of dictionary, after that set_rule_aliases set the title keys. We save our model and load it to try on different web pages. For instance we scrape 20 pages and save the dataframe tp csv file."
   ]
  },
  {
   "cell_type": "code",
   "execution_count": 5,
   "metadata": {},
   "outputs": [
    {
     "data": {
      "text/html": [
       "<div>\n",
       "<style scoped>\n",
       "    .dataframe tbody tr th:only-of-type {\n",
       "        vertical-align: middle;\n",
       "    }\n",
       "\n",
       "    .dataframe tbody tr th {\n",
       "        vertical-align: top;\n",
       "    }\n",
       "\n",
       "    .dataframe thead th {\n",
       "        text-align: right;\n",
       "    }\n",
       "</style>\n",
       "<table border=\"1\" class=\"dataframe\">\n",
       "  <thead>\n",
       "    <tr style=\"text-align: right;\">\n",
       "      <th></th>\n",
       "      <th>prodct_review</th>\n",
       "    </tr>\n",
       "  </thead>\n",
       "  <tbody>\n",
       "    <tr>\n",
       "      <th>0</th>\n",
       "      <td>Love it!</td>\n",
       "    </tr>\n",
       "    <tr>\n",
       "      <th>1</th>\n",
       "      <td>Gotta collect them all!</td>\n",
       "    </tr>\n",
       "    <tr>\n",
       "      <th>2</th>\n",
       "      <td>A.D.D.I.C.T.E.D.❣️</td>\n",
       "    </tr>\n",
       "    <tr>\n",
       "      <th>3</th>\n",
       "      <td>Day two</td>\n",
       "    </tr>\n",
       "    <tr>\n",
       "      <th>4</th>\n",
       "      <td>Excellent formula, but be careful in color sel...</td>\n",
       "    </tr>\n",
       "    <tr>\n",
       "      <th>...</th>\n",
       "      <td>...</td>\n",
       "    </tr>\n",
       "    <tr>\n",
       "      <th>84</th>\n",
       "      <td>Will buy again!!</td>\n",
       "    </tr>\n",
       "    <tr>\n",
       "      <th>85</th>\n",
       "      <td>This Stuff Stays Put</td>\n",
       "    </tr>\n",
       "    <tr>\n",
       "      <th>86</th>\n",
       "      <td>Love the color!</td>\n",
       "    </tr>\n",
       "    <tr>\n",
       "      <th>87</th>\n",
       "      <td>Maybelline Got It Right!</td>\n",
       "    </tr>\n",
       "    <tr>\n",
       "      <th>88</th>\n",
       "      <td>Stays PUT!</td>\n",
       "    </tr>\n",
       "  </tbody>\n",
       "</table>\n",
       "<p>89 rows × 1 columns</p>\n",
       "</div>"
      ],
      "text/plain": [
       "                                        prodct_review\n",
       "0                                            Love it!\n",
       "1                             Gotta collect them all!\n",
       "2                                  A.D.D.I.C.T.E.D.❣️\n",
       "3                                             Day two\n",
       "4   Excellent formula, but be careful in color sel...\n",
       "..                                                ...\n",
       "84                                   Will buy again!!\n",
       "85                               This Stuff Stays Put\n",
       "86                                    Love the color!\n",
       "87                           Maybelline Got It Right!\n",
       "88                                         Stays PUT!\n",
       "\n",
       "[89 rows x 1 columns]"
      ]
     },
     "execution_count": 5,
     "metadata": {},
     "output_type": "execute_result"
    }
   ],
   "source": [
    "scrape(\"https://www.amazon.com/Maybelline-SuperStay-Matte-Liquid-Lipstick/product-reviews/B074VD4X86/ref=cm_cr_dp_d_show_all_btm?ie=UTF8&reviewerType=all_reviews\")\n"
   ]
  },
  {
   "cell_type": "code",
   "execution_count": null,
   "metadata": {},
   "outputs": [],
   "source": [
    "import os\n",
    "from nltk.sentiment.vader import SentimentIntensityAnalyzer\n",
    "import nltk\n",
    "import pandas as pd\n",
    "nltk.download('vader_lexicon')\n",
    "\n",
    "\n",
    "def parse_values(x):\n",
    "    if x < 0:\n",
    "       return 'negative'\n",
    "    elif x == 0:\n",
    "       return 'neutral'\n",
    "    else:\n",
    "       return 'positive'\n",
    "\n",
    "\n",
    "sid = SentimentIntensityAnalyzer()\n",
    "df = pd.read_csv('product_reviews.csv')\n",
    "df['prodct_review'].isnull().sum()\n",
    "df['scores'] = df['prodct_review'].apply(\n",
    "    lambda review: sid.polarity_scores(review))\n",
    "df['compound'] = df['scores'].apply(lambda score_dict: score_dict['compound'])\n",
    "df['comp_score'] = df['compound'].apply(parse_values)\n",
    "df.to_csv('sentiments_1.csv')\n"
   ]
  }
 ],
 "metadata": {
  "interpreter": {
   "hash": "d421f7e0be82773f79ff071f6681b3a26ad583fa2b319fe248c43945bdde9151"
  },
  "kernelspec": {
   "display_name": "Python 3.7.6 64-bit ('base': conda)",
   "name": "python3"
  },
  "language_info": {
   "codemirror_mode": {
    "name": "ipython",
    "version": 3
   },
   "file_extension": ".py",
   "mimetype": "text/x-python",
   "name": "python",
   "nbconvert_exporter": "python",
   "pygments_lexer": "ipython3",
   "version": "3.7.6"
  },
  "orig_nbformat": 4
 },
 "nbformat": 4,
 "nbformat_minor": 2
}
